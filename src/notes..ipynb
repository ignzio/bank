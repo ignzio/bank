{
 "cells": [
  {
   "cell_type": "code",
   "execution_count": null,
   "metadata": {},
   "outputs": [],
   "source": []
  },
  {
   "cell_type": "markdown",
   "metadata": {},
   "source": [
    "when deciding what type of data of collection to use i decided arraylist for the fastest use."
   ]
  },
  {
   "cell_type": "markdown",
   "metadata": {},
   "source": [
    "when trying to access the name of an account object."
   ]
  },
  {
   "cell_type": "markdown",
   "metadata": {},
   "source": [
    "when find out if the funciton isBlank() gives a true value if is blank or if is not blank"
   ]
  },
  {
   "cell_type": "markdown",
   "metadata": {},
   "source": [
    "when trying to display the correct error message i was struggling to find the optimal way to display it , and i choose to use a hashset"
   ]
  },
  {
   "cell_type": "markdown",
   "metadata": {},
   "source": [
    "when adding a date into the program https://www.w3schools.com/java/java_date.asp"
   ]
  },
  {
   "cell_type": "markdown",
   "metadata": {},
   "source": [
    "i wanted to implement an iterator to my new datatype list"
   ]
  }
 ],
 "metadata": {
  "kernelspec": {
   "display_name": "Python 3.10.8 64-bit (microsoft store)",
   "language": "python",
   "name": "python3"
  },
  "language_info": {
   "name": "python",
   "version": "3.10.8"
  },
  "orig_nbformat": 4,
  "vscode": {
   "interpreter": {
    "hash": "dadc8d00dbcec7c473e4bac7f9d51b04434bcde1af0a5cc49f78af05b18ca5eb"
   }
  }
 },
 "nbformat": 4,
 "nbformat_minor": 2
}
